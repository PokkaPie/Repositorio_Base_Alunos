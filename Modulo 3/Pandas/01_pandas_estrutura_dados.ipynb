{
 "cells": [
  {
   "cell_type": "markdown",
   "id": "1fac8c03",
   "metadata": {},
   "source": [
    "1-Pandas e Estrutura de Dados - Series e DataFrame"
   ]
  },
  {
   "cell_type": "markdown",
   "id": "c768f464",
   "metadata": {},
   "source": [
    "Estrutura de dados fundamentais: Series e Dataframe. No Pandas, uma Serie e uma estrutura unidimensional, parecida com uma coluna de uma tabela: contém uma sequência de valores com um indice associado Ja um DataFrame é uma estrutura bidimensional, tabela ou matriz, formada por várias colunas (que são internamente, series alinhadas pelo mesmo indice)."
   ]
  },
  {
   "cell_type": "code",
   "execution_count": 94,
   "id": "ac904843",
   "metadata": {},
   "outputs": [],
   "source": [
    "import pandas as pd\n",
    "import numpy as np\n",
    "import matplotlib.pyplot as plt"
   ]
  },
  {
   "cell_type": "code",
   "execution_count": 95,
   "id": "adef2604",
   "metadata": {},
   "outputs": [],
   "source": [
    "# Criar uma serie (uma unica coluna)\n",
    "\n",
    "s = pd.Series([10,20,30,40,50], name = 'Valores')"
   ]
  },
  {
   "cell_type": "code",
   "execution_count": 96,
   "id": "ada1c46a",
   "metadata": {},
   "outputs": [
    {
     "data": {
      "text/plain": [
       "pandas.core.series.Series"
      ]
     },
     "execution_count": 96,
     "metadata": {},
     "output_type": "execute_result"
    }
   ],
   "source": [
    "type(s)"
   ]
  },
  {
   "cell_type": "code",
   "execution_count": 97,
   "id": "82550a6d",
   "metadata": {},
   "outputs": [
    {
     "name": "stdout",
     "output_type": "stream",
     "text": [
      "\n",
      "_____________________Exemplo de Series_________________________\n",
      "\n",
      "0    10\n",
      "1    20\n",
      "2    30\n",
      "3    40\n",
      "4    50\n",
      "Name: Valores, dtype: int64\n",
      "\n",
      "\n"
     ]
    }
   ],
   "source": [
    "print('\\n_____________________Exemplo de Series_________________________\\n')\n",
    "print(s)\n",
    "print('\\n')\n",
    "# apresentara os dadoos da lista no formato de uma serie com ideces indexados"
   ]
  },
  {
   "cell_type": "code",
   "execution_count": 98,
   "id": "0dfa0689",
   "metadata": {},
   "outputs": [],
   "source": [
    "# Criar im dicionario em python (os valores nulos seram inclusos como None)\n",
    "dados = {\n",
    "    'Nome':['Ana','Bruna','Fabiana','Arnaldo','Eliana','Matias'],\n",
    "    'Idade':[28,34,29,17, None,78],\n",
    "    'Cidade':['Blumenau', 'Sao Paulo','Blumenau','Sao Paulo', 'Salvador', 'Sao Paulo'],\n",
    "    'Salario':[None,7500,6200,9800,8100,15400]\n",
    "}"
   ]
  },
  {
   "cell_type": "code",
   "execution_count": 99,
   "id": "af1c6d3e",
   "metadata": {},
   "outputs": [
    {
     "data": {
      "text/plain": [
       "dict"
      ]
     },
     "execution_count": 99,
     "metadata": {},
     "output_type": "execute_result"
    }
   ],
   "source": [
    "type(dados)"
   ]
  },
  {
   "cell_type": "code",
   "execution_count": 100,
   "id": "7049af33",
   "metadata": {},
   "outputs": [
    {
     "name": "stdout",
     "output_type": "stream",
     "text": [
      "{'Nome': ['Ana', 'Bruna', 'Fabiana', 'Arnaldo', 'Eliana', 'Matias'], 'Idade': [28, 34, 29, 17, None, 78], 'Cidade': ['Blumenau', 'Sao Paulo', 'Blumenau', 'Sao Paulo', 'Salvador', 'Sao Paulo'], 'Salario': [None, 7500, 6200, 9800, 8100, 15400]}\n"
     ]
    }
   ],
   "source": [
    "print(dados)"
   ]
  },
  {
   "cell_type": "code",
   "execution_count": 101,
   "id": "e9e55706",
   "metadata": {},
   "outputs": [],
   "source": [
    "df_dsa= pd.DataFrame(dados)"
   ]
  },
  {
   "cell_type": "code",
   "execution_count": 102,
   "id": "38c73f8c",
   "metadata": {},
   "outputs": [
    {
     "data": {
      "text/plain": [
       "pandas.core.frame.DataFrame"
      ]
     },
     "execution_count": 102,
     "metadata": {},
     "output_type": "execute_result"
    }
   ],
   "source": [
    "type(df_dsa)"
   ]
  },
  {
   "cell_type": "code",
   "execution_count": 103,
   "id": "b891cf2a",
   "metadata": {},
   "outputs": [
    {
     "name": "stdout",
     "output_type": "stream",
     "text": [
      "\n",
      "_______________________Exemplo de DataFrame________________________\n",
      "\n",
      "      Nome  Idade     Cidade  Salario\n",
      "0      Ana   28.0   Blumenau      NaN\n",
      "1    Bruna   34.0  Sao Paulo   7500.0\n",
      "2  Fabiana   29.0   Blumenau   6200.0\n",
      "3  Arnaldo   17.0  Sao Paulo   9800.0\n",
      "4   Eliana    NaN   Salvador   8100.0\n",
      "5   Matias   78.0  Sao Paulo  15400.0\n",
      "\n",
      "\n"
     ]
    }
   ],
   "source": [
    "print('\\n_______________________Exemplo de DataFrame________________________\\n')\n",
    "print(df_dsa)\n",
    "print('\\n')"
   ]
  },
  {
   "cell_type": "markdown",
   "id": "6497ccd3",
   "metadata": {},
   "source": [
    "# 2- leitura e escrita de dados mo formato csv"
   ]
  },
  {
   "cell_type": "markdown",
   "id": "48ac6197",
   "metadata": {},
   "source": [
    "pandas torna muito facil salvar seu DataFrame em um arquivo CSV e carregá-lo de volta"
   ]
  },
  {
   "cell_type": "code",
   "execution_count": 104,
   "id": "41fd8f95",
   "metadata": {},
   "outputs": [],
   "source": [
    " # Escrever (salvando) o Dataframe em um arquivo csv\n",
    "df_dsa.to_csv('dados_funcionarios_sem_indice.csv', index=False, encoding='utf-8')"
   ]
  },
  {
   "cell_type": "code",
   "execution_count": 105,
   "id": "e3e8d527",
   "metadata": {},
   "outputs": [],
   "source": [
    "# index =True (valor Padrao)\n",
    "df_dsa.to_csv('dados_funcionarios_com_indice.csv', encoding='utf-8')"
   ]
  },
  {
   "cell_type": "code",
   "execution_count": 106,
   "id": "b9d41a15",
   "metadata": {},
   "outputs": [
    {
     "data": {
      "text/html": [
       "<div>\n",
       "<style scoped>\n",
       "    .dataframe tbody tr th:only-of-type {\n",
       "        vertical-align: middle;\n",
       "    }\n",
       "\n",
       "    .dataframe tbody tr th {\n",
       "        vertical-align: top;\n",
       "    }\n",
       "\n",
       "    .dataframe thead th {\n",
       "        text-align: right;\n",
       "    }\n",
       "</style>\n",
       "<table border=\"1\" class=\"dataframe\">\n",
       "  <thead>\n",
       "    <tr style=\"text-align: right;\">\n",
       "      <th></th>\n",
       "      <th>Nome</th>\n",
       "      <th>Idade</th>\n",
       "      <th>Cidade</th>\n",
       "      <th>Salario</th>\n",
       "    </tr>\n",
       "  </thead>\n",
       "  <tbody>\n",
       "    <tr>\n",
       "      <th>0</th>\n",
       "      <td>Ana</td>\n",
       "      <td>28.0</td>\n",
       "      <td>Blumenau</td>\n",
       "      <td>NaN</td>\n",
       "    </tr>\n",
       "    <tr>\n",
       "      <th>1</th>\n",
       "      <td>Bruna</td>\n",
       "      <td>34.0</td>\n",
       "      <td>Sao Paulo</td>\n",
       "      <td>7500.0</td>\n",
       "    </tr>\n",
       "    <tr>\n",
       "      <th>2</th>\n",
       "      <td>Fabiana</td>\n",
       "      <td>29.0</td>\n",
       "      <td>Blumenau</td>\n",
       "      <td>6200.0</td>\n",
       "    </tr>\n",
       "    <tr>\n",
       "      <th>3</th>\n",
       "      <td>Arnaldo</td>\n",
       "      <td>17.0</td>\n",
       "      <td>Sao Paulo</td>\n",
       "      <td>9800.0</td>\n",
       "    </tr>\n",
       "    <tr>\n",
       "      <th>4</th>\n",
       "      <td>Eliana</td>\n",
       "      <td>NaN</td>\n",
       "      <td>Salvador</td>\n",
       "      <td>8100.0</td>\n",
       "    </tr>\n",
       "    <tr>\n",
       "      <th>5</th>\n",
       "      <td>Matias</td>\n",
       "      <td>78.0</td>\n",
       "      <td>Sao Paulo</td>\n",
       "      <td>15400.0</td>\n",
       "    </tr>\n",
       "  </tbody>\n",
       "</table>\n",
       "</div>"
      ],
      "text/plain": [
       "      Nome  Idade     Cidade  Salario\n",
       "0      Ana   28.0   Blumenau      NaN\n",
       "1    Bruna   34.0  Sao Paulo   7500.0\n",
       "2  Fabiana   29.0   Blumenau   6200.0\n",
       "3  Arnaldo   17.0  Sao Paulo   9800.0\n",
       "4   Eliana    NaN   Salvador   8100.0\n",
       "5   Matias   78.0  Sao Paulo  15400.0"
      ]
     },
     "execution_count": 106,
     "metadata": {},
     "output_type": "execute_result"
    }
   ],
   "source": [
    "# Ler dados de um arquivo csv para um novo DataFrame\n",
    "df_dsa_1 = pd.read_csv('dados_funcionarios_sem_indice.csv')\n",
    "df_dsa_1.head(6) # a funçao head le as primeiras 5 linhas como padrao,\n"
   ]
  },
  {
   "cell_type": "code",
   "execution_count": 107,
   "id": "8beaaea2",
   "metadata": {},
   "outputs": [
    {
     "data": {
      "text/html": [
       "<div>\n",
       "<style scoped>\n",
       "    .dataframe tbody tr th:only-of-type {\n",
       "        vertical-align: middle;\n",
       "    }\n",
       "\n",
       "    .dataframe tbody tr th {\n",
       "        vertical-align: top;\n",
       "    }\n",
       "\n",
       "    .dataframe thead th {\n",
       "        text-align: right;\n",
       "    }\n",
       "</style>\n",
       "<table border=\"1\" class=\"dataframe\">\n",
       "  <thead>\n",
       "    <tr style=\"text-align: right;\">\n",
       "      <th></th>\n",
       "      <th>Unnamed: 0</th>\n",
       "      <th>Nome</th>\n",
       "      <th>Idade</th>\n",
       "      <th>Cidade</th>\n",
       "      <th>Salario</th>\n",
       "    </tr>\n",
       "  </thead>\n",
       "  <tbody>\n",
       "    <tr>\n",
       "      <th>0</th>\n",
       "      <td>0</td>\n",
       "      <td>Ana</td>\n",
       "      <td>28.0</td>\n",
       "      <td>Blumenau</td>\n",
       "      <td>NaN</td>\n",
       "    </tr>\n",
       "    <tr>\n",
       "      <th>1</th>\n",
       "      <td>1</td>\n",
       "      <td>Bruna</td>\n",
       "      <td>34.0</td>\n",
       "      <td>Sao Paulo</td>\n",
       "      <td>7500.0</td>\n",
       "    </tr>\n",
       "    <tr>\n",
       "      <th>2</th>\n",
       "      <td>2</td>\n",
       "      <td>Fabiana</td>\n",
       "      <td>29.0</td>\n",
       "      <td>Blumenau</td>\n",
       "      <td>6200.0</td>\n",
       "    </tr>\n",
       "    <tr>\n",
       "      <th>3</th>\n",
       "      <td>3</td>\n",
       "      <td>Arnaldo</td>\n",
       "      <td>17.0</td>\n",
       "      <td>Sao Paulo</td>\n",
       "      <td>9800.0</td>\n",
       "    </tr>\n",
       "    <tr>\n",
       "      <th>4</th>\n",
       "      <td>4</td>\n",
       "      <td>Eliana</td>\n",
       "      <td>NaN</td>\n",
       "      <td>Salvador</td>\n",
       "      <td>8100.0</td>\n",
       "    </tr>\n",
       "    <tr>\n",
       "      <th>5</th>\n",
       "      <td>5</td>\n",
       "      <td>Matias</td>\n",
       "      <td>78.0</td>\n",
       "      <td>Sao Paulo</td>\n",
       "      <td>15400.0</td>\n",
       "    </tr>\n",
       "  </tbody>\n",
       "</table>\n",
       "</div>"
      ],
      "text/plain": [
       "   Unnamed: 0     Nome  Idade     Cidade  Salario\n",
       "0           0      Ana   28.0   Blumenau      NaN\n",
       "1           1    Bruna   34.0  Sao Paulo   7500.0\n",
       "2           2  Fabiana   29.0   Blumenau   6200.0\n",
       "3           3  Arnaldo   17.0  Sao Paulo   9800.0\n",
       "4           4   Eliana    NaN   Salvador   8100.0\n",
       "5           5   Matias   78.0  Sao Paulo  15400.0"
      ]
     },
     "execution_count": 107,
     "metadata": {},
     "output_type": "execute_result"
    }
   ],
   "source": [
    "df_dsa_2 = pd.read_csv('dados_funcionarios_com_indice.csv')\n",
    "df_dsa_2.head(6)"
   ]
  },
  {
   "cell_type": "markdown",
   "id": "052ef0ba",
   "metadata": {},
   "source": [
    "df_dsa_2 = df_dsa_2.drop(df_dsa_2.columns[0], axis =1)\n",
    "df_dsa_2.head(6)"
   ]
  },
  {
   "cell_type": "markdown",
   "id": "2df813e6",
   "metadata": {},
   "source": [
    "3. Seleçao e indexaçao com pandas\n"
   ]
  },
  {
   "cell_type": "markdown",
   "id": "f28fa125",
   "metadata": {},
   "source": [
    "existem várias maneiras de selecionar dados de DataFrame. AS mais comuns são loc (baseada em rótulo) e iloc (baseada em posiçao/índice numericos)"
   ]
  },
  {
   "cell_type": "code",
   "execution_count": 108,
   "id": "95a46dd4",
   "metadata": {},
   "outputs": [
    {
     "data": {
      "text/html": [
       "<div>\n",
       "<style scoped>\n",
       "    .dataframe tbody tr th:only-of-type {\n",
       "        vertical-align: middle;\n",
       "    }\n",
       "\n",
       "    .dataframe tbody tr th {\n",
       "        vertical-align: top;\n",
       "    }\n",
       "\n",
       "    .dataframe thead th {\n",
       "        text-align: right;\n",
       "    }\n",
       "</style>\n",
       "<table border=\"1\" class=\"dataframe\">\n",
       "  <thead>\n",
       "    <tr style=\"text-align: right;\">\n",
       "      <th></th>\n",
       "      <th>Nome</th>\n",
       "      <th>Idade</th>\n",
       "      <th>Cidade</th>\n",
       "      <th>Salario</th>\n",
       "    </tr>\n",
       "  </thead>\n",
       "  <tbody>\n",
       "    <tr>\n",
       "      <th>0</th>\n",
       "      <td>Ana</td>\n",
       "      <td>28.0</td>\n",
       "      <td>Blumenau</td>\n",
       "      <td>NaN</td>\n",
       "    </tr>\n",
       "    <tr>\n",
       "      <th>1</th>\n",
       "      <td>Bruna</td>\n",
       "      <td>34.0</td>\n",
       "      <td>Sao Paulo</td>\n",
       "      <td>7500.0</td>\n",
       "    </tr>\n",
       "    <tr>\n",
       "      <th>2</th>\n",
       "      <td>Fabiana</td>\n",
       "      <td>29.0</td>\n",
       "      <td>Blumenau</td>\n",
       "      <td>6200.0</td>\n",
       "    </tr>\n",
       "    <tr>\n",
       "      <th>3</th>\n",
       "      <td>Arnaldo</td>\n",
       "      <td>17.0</td>\n",
       "      <td>Sao Paulo</td>\n",
       "      <td>9800.0</td>\n",
       "    </tr>\n",
       "    <tr>\n",
       "      <th>4</th>\n",
       "      <td>Eliana</td>\n",
       "      <td>NaN</td>\n",
       "      <td>Salvador</td>\n",
       "      <td>8100.0</td>\n",
       "    </tr>\n",
       "    <tr>\n",
       "      <th>5</th>\n",
       "      <td>Matias</td>\n",
       "      <td>78.0</td>\n",
       "      <td>Sao Paulo</td>\n",
       "      <td>15400.0</td>\n",
       "    </tr>\n",
       "  </tbody>\n",
       "</table>\n",
       "</div>"
      ],
      "text/plain": [
       "      Nome  Idade     Cidade  Salario\n",
       "0      Ana   28.0   Blumenau      NaN\n",
       "1    Bruna   34.0  Sao Paulo   7500.0\n",
       "2  Fabiana   29.0   Blumenau   6200.0\n",
       "3  Arnaldo   17.0  Sao Paulo   9800.0\n",
       "4   Eliana    NaN   Salvador   8100.0\n",
       "5   Matias   78.0  Sao Paulo  15400.0"
      ]
     },
     "execution_count": 108,
     "metadata": {},
     "output_type": "execute_result"
    }
   ],
   "source": [
    "df_dsa.head(6)"
   ]
  },
  {
   "cell_type": "code",
   "execution_count": 109,
   "id": "e26409ea",
   "metadata": {},
   "outputs": [
    {
     "name": "stdout",
     "output_type": "stream",
     "text": [
      "\n",
      "__________________Selecionar a coluna Nome__________________\n",
      "\n",
      "0        Ana\n",
      "1      Bruna\n",
      "2    Fabiana\n",
      "3    Arnaldo\n",
      "4     Eliana\n",
      "5     Matias\n",
      "Name: Nome, dtype: object\n",
      "\n",
      "\n"
     ]
    }
   ],
   "source": [
    "nomes = df_dsa['Nome']\n",
    "print('\\n__________________Selecionar a coluna Nome__________________\\n')\n",
    "print(nomes)\n",
    "print('\\n')"
   ]
  },
  {
   "cell_type": "code",
   "execution_count": 110,
   "id": "a7796388",
   "metadata": {},
   "outputs": [
    {
     "data": {
      "text/plain": [
       "pandas.core.series.Series"
      ]
     },
     "execution_count": 110,
     "metadata": {},
     "output_type": "execute_result"
    }
   ],
   "source": [
    "type(nomes)"
   ]
  },
  {
   "cell_type": "code",
   "execution_count": 111,
   "id": "1d21cabb",
   "metadata": {},
   "outputs": [
    {
     "name": "stdout",
     "output_type": "stream",
     "text": [
      "\n",
      "_________________________selecionar as colunas Nome e Idade_____________________\n",
      "\n",
      "      Nome  Idade\n",
      "0      Ana   28.0\n",
      "1    Bruna   34.0\n",
      "2  Fabiana   29.0\n",
      "3  Arnaldo   17.0\n",
      "4   Eliana    NaN\n",
      "5   Matias   78.0\n",
      "\n",
      "\n"
     ]
    }
   ],
   "source": [
    "# selecionar multiplas colunas (retorna um DataFrame)\n",
    "info_pessoal = df_dsa[['Nome','Idade']]\n",
    "print('\\n_________________________selecionar as colunas Nome e Idade_____________________\\n')\n",
    "print(info_pessoal)\n",
    "print('\\n')"
   ]
  },
  {
   "cell_type": "code",
   "execution_count": 112,
   "id": "ae24f39d",
   "metadata": {},
   "outputs": [
    {
     "data": {
      "text/plain": [
       "pandas.core.frame.DataFrame"
      ]
     },
     "execution_count": 112,
     "metadata": {},
     "output_type": "execute_result"
    }
   ],
   "source": [
    "type(info_pessoal)"
   ]
  },
  {
   "cell_type": "code",
   "execution_count": 113,
   "id": "39d94352",
   "metadata": {},
   "outputs": [
    {
     "name": "stdout",
     "output_type": "stream",
     "text": [
      "\n",
      "_________________________selecionar com .loc[1,\"Nome\"]_________________________________________\n",
      " Bruna \n",
      "\n"
     ]
    }
   ],
   "source": [
    "nome = df_dsa.loc[1,'Nome']\n",
    "print('\\n_________________________selecionar com .loc[1,\"Nome\"]_________________________________________\\n', (nome), '\\n')"
   ]
  },
  {
   "cell_type": "code",
   "execution_count": 114,
   "id": "5bf1343b",
   "metadata": {},
   "outputs": [
    {
     "name": "stdout",
     "output_type": "stream",
     "text": [
      "\n",
      "_________________________selecionar com .iloc[2,3]_________________________________________\n",
      " Salario R$ 6200.0 \n",
      "\n"
     ]
    }
   ],
   "source": [
    "# Usando .loc para selecionar pela posiçao da linha (linha 2) e da coluna (coluna 3)\n",
    "salario_fabiana = df_dsa.iloc[2,3]\n",
    "print('\\n_________________________selecionar com .iloc[2,3]_________________________________________\\n','Salario R$',(salario_fabiana), '\\n')"
   ]
  },
  {
   "cell_type": "code",
   "execution_count": 115,
   "id": "b8756e70",
   "metadata": {},
   "outputs": [
    {
     "name": "stdout",
     "output_type": "stream",
     "text": [
      "\n",
      "_________________________selecionar as 3 primeiras linhas com .loc_________________________________________\n",
      "\n",
      "      Nome  Idade     Cidade  Salario\n",
      "0      Ana   28.0   Blumenau      NaN\n",
      "1    Bruna   34.0  Sao Paulo   7500.0\n",
      "2  Fabiana   29.0   Blumenau   6200.0\n"
     ]
    }
   ],
   "source": [
    "primeiras_tres_linhas = df_dsa.loc[0:2]\n",
    "print('\\n_________________________selecionar as 3 primeiras linhas com .loc_________________________________________\\n')\n",
    "print(primeiras_tres_linhas)"
   ]
  },
  {
   "cell_type": "markdown",
   "id": "3aaa6584",
   "metadata": {},
   "source": [
    "# 4 filtragem de dados com pandas"
   ]
  },
  {
   "cell_type": "markdown",
   "id": "81ee0ed8",
   "metadata": {},
   "source": [
    "Voce pode filtrar linhas com base em condiçoes logicas, de forma ,uito intuitiva, bem como usar colunas com índice"
   ]
  },
  {
   "cell_type": "code",
   "execution_count": 116,
   "id": "d6054cb2",
   "metadata": {},
   "outputs": [
    {
     "data": {
      "text/html": [
       "<div>\n",
       "<style scoped>\n",
       "    .dataframe tbody tr th:only-of-type {\n",
       "        vertical-align: middle;\n",
       "    }\n",
       "\n",
       "    .dataframe tbody tr th {\n",
       "        vertical-align: top;\n",
       "    }\n",
       "\n",
       "    .dataframe thead th {\n",
       "        text-align: right;\n",
       "    }\n",
       "</style>\n",
       "<table border=\"1\" class=\"dataframe\">\n",
       "  <thead>\n",
       "    <tr style=\"text-align: right;\">\n",
       "      <th></th>\n",
       "      <th>Idade</th>\n",
       "      <th>Cidade</th>\n",
       "      <th>Salario</th>\n",
       "    </tr>\n",
       "    <tr>\n",
       "      <th>Nome</th>\n",
       "      <th></th>\n",
       "      <th></th>\n",
       "      <th></th>\n",
       "    </tr>\n",
       "  </thead>\n",
       "  <tbody>\n",
       "    <tr>\n",
       "      <th>Ana</th>\n",
       "      <td>28.0</td>\n",
       "      <td>Blumenau</td>\n",
       "      <td>NaN</td>\n",
       "    </tr>\n",
       "    <tr>\n",
       "      <th>Bruna</th>\n",
       "      <td>34.0</td>\n",
       "      <td>Sao Paulo</td>\n",
       "      <td>7500.0</td>\n",
       "    </tr>\n",
       "    <tr>\n",
       "      <th>Fabiana</th>\n",
       "      <td>29.0</td>\n",
       "      <td>Blumenau</td>\n",
       "      <td>6200.0</td>\n",
       "    </tr>\n",
       "    <tr>\n",
       "      <th>Arnaldo</th>\n",
       "      <td>17.0</td>\n",
       "      <td>Sao Paulo</td>\n",
       "      <td>9800.0</td>\n",
       "    </tr>\n",
       "    <tr>\n",
       "      <th>Eliana</th>\n",
       "      <td>NaN</td>\n",
       "      <td>Salvador</td>\n",
       "      <td>8100.0</td>\n",
       "    </tr>\n",
       "    <tr>\n",
       "      <th>Matias</th>\n",
       "      <td>78.0</td>\n",
       "      <td>Sao Paulo</td>\n",
       "      <td>15400.0</td>\n",
       "    </tr>\n",
       "  </tbody>\n",
       "</table>\n",
       "</div>"
      ],
      "text/plain": [
       "         Idade     Cidade  Salario\n",
       "Nome                              \n",
       "Ana       28.0   Blumenau      NaN\n",
       "Bruna     34.0  Sao Paulo   7500.0\n",
       "Fabiana   29.0   Blumenau   6200.0\n",
       "Arnaldo   17.0  Sao Paulo   9800.0\n",
       "Eliana     NaN   Salvador   8100.0\n",
       "Matias    78.0  Sao Paulo  15400.0"
      ]
     },
     "execution_count": 116,
     "metadata": {},
     "output_type": "execute_result"
    }
   ],
   "source": [
    "df_dsa = df_dsa.set_index(df_dsa.columns[0])\n",
    "df_dsa.head(6)"
   ]
  },
  {
   "cell_type": "code",
   "execution_count": 117,
   "id": "e94cd17d",
   "metadata": {},
   "outputs": [],
   "source": [
    "#Filtragem usando label do uindice (linha) e da coluna\n",
    "# df_dsa.loc['Fabiana','Salário']\n"
   ]
  },
  {
   "cell_type": "code",
   "execution_count": 118,
   "id": "516a06f8",
   "metadata": {},
   "outputs": [],
   "source": [
    "#resetar\n",
    "df_dsa=df_dsa.reset_index()"
   ]
  },
  {
   "cell_type": "code",
   "execution_count": 119,
   "id": "e1fc2201",
   "metadata": {},
   "outputs": [
    {
     "data": {
      "text/html": [
       "<div>\n",
       "<style scoped>\n",
       "    .dataframe tbody tr th:only-of-type {\n",
       "        vertical-align: middle;\n",
       "    }\n",
       "\n",
       "    .dataframe tbody tr th {\n",
       "        vertical-align: top;\n",
       "    }\n",
       "\n",
       "    .dataframe thead th {\n",
       "        text-align: right;\n",
       "    }\n",
       "</style>\n",
       "<table border=\"1\" class=\"dataframe\">\n",
       "  <thead>\n",
       "    <tr style=\"text-align: right;\">\n",
       "      <th></th>\n",
       "      <th>Nome</th>\n",
       "      <th>Idade</th>\n",
       "      <th>Cidade</th>\n",
       "      <th>Salario</th>\n",
       "    </tr>\n",
       "  </thead>\n",
       "  <tbody>\n",
       "    <tr>\n",
       "      <th>0</th>\n",
       "      <td>Ana</td>\n",
       "      <td>28.0</td>\n",
       "      <td>Blumenau</td>\n",
       "      <td>NaN</td>\n",
       "    </tr>\n",
       "    <tr>\n",
       "      <th>1</th>\n",
       "      <td>Bruna</td>\n",
       "      <td>34.0</td>\n",
       "      <td>Sao Paulo</td>\n",
       "      <td>7500.0</td>\n",
       "    </tr>\n",
       "    <tr>\n",
       "      <th>2</th>\n",
       "      <td>Fabiana</td>\n",
       "      <td>29.0</td>\n",
       "      <td>Blumenau</td>\n",
       "      <td>6200.0</td>\n",
       "    </tr>\n",
       "    <tr>\n",
       "      <th>3</th>\n",
       "      <td>Arnaldo</td>\n",
       "      <td>17.0</td>\n",
       "      <td>Sao Paulo</td>\n",
       "      <td>9800.0</td>\n",
       "    </tr>\n",
       "    <tr>\n",
       "      <th>4</th>\n",
       "      <td>Eliana</td>\n",
       "      <td>NaN</td>\n",
       "      <td>Salvador</td>\n",
       "      <td>8100.0</td>\n",
       "    </tr>\n",
       "    <tr>\n",
       "      <th>5</th>\n",
       "      <td>Matias</td>\n",
       "      <td>78.0</td>\n",
       "      <td>Sao Paulo</td>\n",
       "      <td>15400.0</td>\n",
       "    </tr>\n",
       "  </tbody>\n",
       "</table>\n",
       "</div>"
      ],
      "text/plain": [
       "      Nome  Idade     Cidade  Salario\n",
       "0      Ana   28.0   Blumenau      NaN\n",
       "1    Bruna   34.0  Sao Paulo   7500.0\n",
       "2  Fabiana   29.0   Blumenau   6200.0\n",
       "3  Arnaldo   17.0  Sao Paulo   9800.0\n",
       "4   Eliana    NaN   Salvador   8100.0\n",
       "5   Matias   78.0  Sao Paulo  15400.0"
      ]
     },
     "execution_count": 119,
     "metadata": {},
     "output_type": "execute_result"
    }
   ],
   "source": [
    "df_dsa.head(6)"
   ]
  },
  {
   "cell_type": "code",
   "execution_count": 120,
   "id": "39c4ed26",
   "metadata": {},
   "outputs": [
    {
     "name": "stdout",
     "output_type": "stream",
     "text": [
      "\n",
      "____________________________Funcionários com mais de 30 anos______________________________\n",
      "     Nome  Idade     Cidade  Salario\n",
      "1   Bruna   34.0  Sao Paulo   7500.0\n",
      "5  Matias   78.0  Sao Paulo  15400.0\n",
      "\n",
      "\n"
     ]
    }
   ],
   "source": [
    "#filtrar idades de funcionarios\n",
    "mais_de_30 = df_dsa[df_dsa['Idade']>30]\n",
    "print('\\n____________________________Funcionários com mais de 30 anos______________________________')\n",
    "print(mais_de_30)\n",
    "print('\\n')"
   ]
  },
  {
   "cell_type": "code",
   "execution_count": 121,
   "id": "454a3f4f",
   "metadata": {},
   "outputs": [
    {
     "name": "stdout",
     "output_type": "stream",
     "text": [
      "\n",
      "____________________________________________Funcionarios de Sao Paulo com salario > 6 mil_____________________________\n",
      "      Nome  Idade     Cidade  Salario\n",
      "1    Bruna   34.0  Sao Paulo   7500.0\n",
      "3  Arnaldo   17.0  Sao Paulo   9800.0\n",
      "5   Matias   78.0  Sao Paulo  15400.0\n",
      "\n",
      "\n"
     ]
    }
   ],
   "source": [
    "#Filtrar funcionarios de Sao Paulo com salario a cima e 6000\n",
    "sp_salario_alto = df_dsa[(df_dsa['Cidade']=='Sao Paulo')&(df_dsa['Salario']>6000)]\n",
    "print('\\n____________________________________________Funcionarios de Sao Paulo com salario > 6 mil_____________________________')\n",
    "print(sp_salario_alto)\n",
    "print('\\n')"
   ]
  },
  {
   "cell_type": "code",
   "execution_count": 122,
   "id": "59d4c004",
   "metadata": {},
   "outputs": [
    {
     "data": {
      "text/html": [
       "<div>\n",
       "<style scoped>\n",
       "    .dataframe tbody tr th:only-of-type {\n",
       "        vertical-align: middle;\n",
       "    }\n",
       "\n",
       "    .dataframe tbody tr th {\n",
       "        vertical-align: top;\n",
       "    }\n",
       "\n",
       "    .dataframe thead th {\n",
       "        text-align: right;\n",
       "    }\n",
       "</style>\n",
       "<table border=\"1\" class=\"dataframe\">\n",
       "  <thead>\n",
       "    <tr style=\"text-align: right;\">\n",
       "      <th></th>\n",
       "      <th>Nome</th>\n",
       "      <th>Idade</th>\n",
       "      <th>Cidade</th>\n",
       "      <th>Salario</th>\n",
       "    </tr>\n",
       "  </thead>\n",
       "  <tbody>\n",
       "    <tr>\n",
       "      <th>0</th>\n",
       "      <td>False</td>\n",
       "      <td>False</td>\n",
       "      <td>False</td>\n",
       "      <td>True</td>\n",
       "    </tr>\n",
       "    <tr>\n",
       "      <th>1</th>\n",
       "      <td>False</td>\n",
       "      <td>False</td>\n",
       "      <td>False</td>\n",
       "      <td>False</td>\n",
       "    </tr>\n",
       "    <tr>\n",
       "      <th>2</th>\n",
       "      <td>False</td>\n",
       "      <td>False</td>\n",
       "      <td>False</td>\n",
       "      <td>False</td>\n",
       "    </tr>\n",
       "    <tr>\n",
       "      <th>3</th>\n",
       "      <td>False</td>\n",
       "      <td>False</td>\n",
       "      <td>False</td>\n",
       "      <td>False</td>\n",
       "    </tr>\n",
       "    <tr>\n",
       "      <th>4</th>\n",
       "      <td>False</td>\n",
       "      <td>True</td>\n",
       "      <td>False</td>\n",
       "      <td>False</td>\n",
       "    </tr>\n",
       "    <tr>\n",
       "      <th>5</th>\n",
       "      <td>False</td>\n",
       "      <td>False</td>\n",
       "      <td>False</td>\n",
       "      <td>False</td>\n",
       "    </tr>\n",
       "  </tbody>\n",
       "</table>\n",
       "</div>"
      ],
      "text/plain": [
       "    Nome  Idade  Cidade  Salario\n",
       "0  False  False   False     True\n",
       "1  False  False   False    False\n",
       "2  False  False   False    False\n",
       "3  False  False   False    False\n",
       "4  False   True   False    False\n",
       "5  False  False   False    False"
      ]
     },
     "execution_count": 122,
     "metadata": {},
     "output_type": "execute_result"
    }
   ],
   "source": [
    "#verificar quais celulas tem valor nulo\n",
    "df_dsa.isnull()"
   ]
  },
  {
   "cell_type": "code",
   "execution_count": 123,
   "id": "73b94d7d",
   "metadata": {},
   "outputs": [
    {
     "data": {
      "text/plain": [
       "Nome       False\n",
       "Idade       True\n",
       "Cidade     False\n",
       "Salario     True\n",
       "dtype: bool"
      ]
     },
     "execution_count": 123,
     "metadata": {},
     "output_type": "execute_result"
    }
   ],
   "source": [
    "df_dsa.isnull().any()"
   ]
  },
  {
   "cell_type": "code",
   "execution_count": 124,
   "id": "7f5e9e75",
   "metadata": {},
   "outputs": [],
   "source": [
    "df_dsa_colunas_com_nulos = df_dsa.loc[:,df_dsa.isnull().any()]"
   ]
  },
  {
   "cell_type": "code",
   "execution_count": 125,
   "id": "34f6ee67",
   "metadata": {},
   "outputs": [
    {
     "data": {
      "text/html": [
       "<div>\n",
       "<style scoped>\n",
       "    .dataframe tbody tr th:only-of-type {\n",
       "        vertical-align: middle;\n",
       "    }\n",
       "\n",
       "    .dataframe tbody tr th {\n",
       "        vertical-align: top;\n",
       "    }\n",
       "\n",
       "    .dataframe thead th {\n",
       "        text-align: right;\n",
       "    }\n",
       "</style>\n",
       "<table border=\"1\" class=\"dataframe\">\n",
       "  <thead>\n",
       "    <tr style=\"text-align: right;\">\n",
       "      <th></th>\n",
       "      <th>Idade</th>\n",
       "      <th>Salario</th>\n",
       "    </tr>\n",
       "  </thead>\n",
       "  <tbody>\n",
       "    <tr>\n",
       "      <th>0</th>\n",
       "      <td>28.0</td>\n",
       "      <td>NaN</td>\n",
       "    </tr>\n",
       "    <tr>\n",
       "      <th>1</th>\n",
       "      <td>34.0</td>\n",
       "      <td>7500.0</td>\n",
       "    </tr>\n",
       "    <tr>\n",
       "      <th>2</th>\n",
       "      <td>29.0</td>\n",
       "      <td>6200.0</td>\n",
       "    </tr>\n",
       "    <tr>\n",
       "      <th>3</th>\n",
       "      <td>17.0</td>\n",
       "      <td>9800.0</td>\n",
       "    </tr>\n",
       "    <tr>\n",
       "      <th>4</th>\n",
       "      <td>NaN</td>\n",
       "      <td>8100.0</td>\n",
       "    </tr>\n",
       "  </tbody>\n",
       "</table>\n",
       "</div>"
      ],
      "text/plain": [
       "   Idade  Salario\n",
       "0   28.0      NaN\n",
       "1   34.0   7500.0\n",
       "2   29.0   6200.0\n",
       "3   17.0   9800.0\n",
       "4    NaN   8100.0"
      ]
     },
     "execution_count": 125,
     "metadata": {},
     "output_type": "execute_result"
    }
   ],
   "source": [
    "df_dsa_colunas_com_nulos.head()"
   ]
  },
  {
   "cell_type": "code",
   "execution_count": 126,
   "id": "5390972f",
   "metadata": {},
   "outputs": [],
   "source": [
    "df_dsa_colunas_com_nulos = df_dsa[df_dsa.isnull().any(axis=1)]"
   ]
  },
  {
   "cell_type": "code",
   "execution_count": 127,
   "id": "fa7d3973",
   "metadata": {},
   "outputs": [
    {
     "data": {
      "text/html": [
       "<div>\n",
       "<style scoped>\n",
       "    .dataframe tbody tr th:only-of-type {\n",
       "        vertical-align: middle;\n",
       "    }\n",
       "\n",
       "    .dataframe tbody tr th {\n",
       "        vertical-align: top;\n",
       "    }\n",
       "\n",
       "    .dataframe thead th {\n",
       "        text-align: right;\n",
       "    }\n",
       "</style>\n",
       "<table border=\"1\" class=\"dataframe\">\n",
       "  <thead>\n",
       "    <tr style=\"text-align: right;\">\n",
       "      <th></th>\n",
       "      <th>Nome</th>\n",
       "      <th>Idade</th>\n",
       "      <th>Cidade</th>\n",
       "      <th>Salario</th>\n",
       "    </tr>\n",
       "  </thead>\n",
       "  <tbody>\n",
       "    <tr>\n",
       "      <th>0</th>\n",
       "      <td>Ana</td>\n",
       "      <td>28.0</td>\n",
       "      <td>Blumenau</td>\n",
       "      <td>NaN</td>\n",
       "    </tr>\n",
       "    <tr>\n",
       "      <th>4</th>\n",
       "      <td>Eliana</td>\n",
       "      <td>NaN</td>\n",
       "      <td>Salvador</td>\n",
       "      <td>8100.0</td>\n",
       "    </tr>\n",
       "  </tbody>\n",
       "</table>\n",
       "</div>"
      ],
      "text/plain": [
       "     Nome  Idade    Cidade  Salario\n",
       "0     Ana   28.0  Blumenau      NaN\n",
       "4  Eliana    NaN  Salvador   8100.0"
      ]
     },
     "execution_count": 127,
     "metadata": {},
     "output_type": "execute_result"
    }
   ],
   "source": [
    "df_dsa_colunas_com_nulos.head()"
   ]
  },
  {
   "cell_type": "code",
   "execution_count": 128,
   "id": "50840ff7",
   "metadata": {},
   "outputs": [
    {
     "data": {
      "text/plain": [
       "<bound method NDFrame.head of      Nome  Idade    Cidade  Salario\n",
       "4  Eliana    NaN  Salvador   8100.0>"
      ]
     },
     "execution_count": 128,
     "metadata": {},
     "output_type": "execute_result"
    }
   ],
   "source": [
    "linhas_com_nulos_idade = df_dsa[df_dsa['Idade'].isnull()]\n",
    "linhas_com_nulos_idade.head"
   ]
  },
  {
   "cell_type": "code",
   "execution_count": 129,
   "id": "ae7acbd8",
   "metadata": {},
   "outputs": [
    {
     "name": "stdout",
     "output_type": "stream",
     "text": [
      "\n",
      "______________Formato do DataFrame .shape________________\n",
      "(6, 4)\n"
     ]
    }
   ],
   "source": [
    "print(f'\\n______________Formato do DataFrame .shape________________\\n{df_dsa.shape}')"
   ]
  },
  {
   "cell_type": "code",
   "execution_count": 130,
   "id": "82c4338e",
   "metadata": {},
   "outputs": [
    {
     "name": "stdout",
     "output_type": "stream",
     "text": [
      "\n",
      "______________Formato do DataFrame .shape________________\n",
      "      Nome  Idade     Cidade  Salario\n",
      "0      Ana   28.0   Blumenau      NaN\n",
      "1    Bruna   34.0  Sao Paulo   7500.0\n",
      "2  Fabiana   29.0   Blumenau   6200.0\n",
      "3  Arnaldo   17.0  Sao Paulo   9800.0\n",
      "4   Eliana    NaN   Salvador   8100.0\n"
     ]
    }
   ],
   "source": [
    "print(f'\\n______________Formato do DataFrame .shape________________\\n{df_dsa.head()}')"
   ]
  },
  {
   "cell_type": "code",
   "execution_count": 131,
   "id": "c8ece86a",
   "metadata": {},
   "outputs": [
    {
     "name": "stdout",
     "output_type": "stream",
     "text": [
      "\n",
      "______________Formato do DataFrame .shape________________\n",
      "      Nome  Idade     Cidade  Salario\n",
      "1    Bruna   34.0  Sao Paulo   7500.0\n",
      "2  Fabiana   29.0   Blumenau   6200.0\n",
      "3  Arnaldo   17.0  Sao Paulo   9800.0\n",
      "4   Eliana    NaN   Salvador   8100.0\n",
      "5   Matias   78.0  Sao Paulo  15400.0\n"
     ]
    }
   ],
   "source": [
    "print(f'\\n______________Formato do DataFrame .shape________________\\n{df_dsa.tail()}')"
   ]
  },
  {
   "cell_type": "code",
   "execution_count": 132,
   "id": "10b1db03",
   "metadata": {},
   "outputs": [
    {
     "name": "stdout",
     "output_type": "stream",
     "text": [
      "<class 'pandas.core.frame.DataFrame'>\n",
      "RangeIndex: 6 entries, 0 to 5\n",
      "Data columns (total 4 columns):\n",
      " #   Column   Non-Null Count  Dtype  \n",
      "---  ------   --------------  -----  \n",
      " 0   Nome     6 non-null      object \n",
      " 1   Idade    5 non-null      float64\n",
      " 2   Cidade   6 non-null      object \n",
      " 3   Salario  5 non-null      float64\n",
      "dtypes: float64(2), object(2)\n",
      "memory usage: 324.0+ bytes\n",
      "\n",
      "______________Informações Gerais________________\n",
      "None\n"
     ]
    }
   ],
   "source": [
    "print(f'\\n______________Informações Gerais________________\\n{df_dsa.info()}')"
   ]
  },
  {
   "cell_type": "code",
   "execution_count": 133,
   "id": "32a9d6c1",
   "metadata": {},
   "outputs": [
    {
     "name": "stdout",
     "output_type": "stream",
     "text": [
      "\n",
      "______________Estatisticas descritivas________________\n",
      "           Idade       Salario\n",
      "count   5.000000      5.000000\n",
      "mean   37.200000   9400.000000\n",
      "std    23.636836   3595.135602\n",
      "min    17.000000   6200.000000\n",
      "25%    28.000000   7500.000000\n",
      "50%    29.000000   8100.000000\n",
      "75%    34.000000   9800.000000\n",
      "max    78.000000  15400.000000\n"
     ]
    }
   ],
   "source": [
    "print(f'\\n______________Estatisticas descritivas________________\\n{df_dsa.describe()}')"
   ]
  },
  {
   "cell_type": "code",
   "execution_count": 134,
   "id": "9ce62d24",
   "metadata": {},
   "outputs": [
    {
     "name": "stdout",
     "output_type": "stream",
     "text": [
      "       Nome      Idade     Cidade       Salario\n",
      "count     6   5.000000          6      5.000000\n",
      "unique    6        NaN          3           NaN\n",
      "top     Ana        NaN  Sao Paulo           NaN\n",
      "freq      1        NaN          3           NaN\n",
      "mean    NaN  37.200000        NaN   9400.000000\n",
      "std     NaN  23.636836        NaN   3595.135602\n",
      "min     NaN  17.000000        NaN   6200.000000\n",
      "25%     NaN  28.000000        NaN   7500.000000\n",
      "50%     NaN  29.000000        NaN   8100.000000\n",
      "75%     NaN  34.000000        NaN   9800.000000\n",
      "max     NaN  78.000000        NaN  15400.000000\n"
     ]
    }
   ],
   "source": [
    "print(df_dsa.describe(include='all'))# para incluir tudo"
   ]
  },
  {
   "cell_type": "code",
   "execution_count": 135,
   "id": "4967f81d",
   "metadata": {},
   "outputs": [
    {
     "data": {
      "text/html": [
       "<div>\n",
       "<style scoped>\n",
       "    .dataframe tbody tr th:only-of-type {\n",
       "        vertical-align: middle;\n",
       "    }\n",
       "\n",
       "    .dataframe tbody tr th {\n",
       "        vertical-align: top;\n",
       "    }\n",
       "\n",
       "    .dataframe thead th {\n",
       "        text-align: right;\n",
       "    }\n",
       "</style>\n",
       "<table border=\"1\" class=\"dataframe\">\n",
       "  <thead>\n",
       "    <tr style=\"text-align: right;\">\n",
       "      <th></th>\n",
       "      <th>Nome</th>\n",
       "      <th>Cidade</th>\n",
       "    </tr>\n",
       "  </thead>\n",
       "  <tbody>\n",
       "    <tr>\n",
       "      <th>count</th>\n",
       "      <td>6</td>\n",
       "      <td>6</td>\n",
       "    </tr>\n",
       "    <tr>\n",
       "      <th>unique</th>\n",
       "      <td>6</td>\n",
       "      <td>3</td>\n",
       "    </tr>\n",
       "    <tr>\n",
       "      <th>top</th>\n",
       "      <td>Ana</td>\n",
       "      <td>Sao Paulo</td>\n",
       "    </tr>\n",
       "    <tr>\n",
       "      <th>freq</th>\n",
       "      <td>1</td>\n",
       "      <td>3</td>\n",
       "    </tr>\n",
       "  </tbody>\n",
       "</table>\n",
       "</div>"
      ],
      "text/plain": [
       "       Nome     Cidade\n",
       "count     6          6\n",
       "unique    6          3\n",
       "top     Ana  Sao Paulo\n",
       "freq      1          3"
      ]
     },
     "execution_count": 135,
     "metadata": {},
     "output_type": "execute_result"
    }
   ],
   "source": [
    "df_dsa.describe(include=[object])# colunas do tipo objeto"
   ]
  },
  {
   "cell_type": "code",
   "execution_count": 136,
   "id": "febfe9b7",
   "metadata": {},
   "outputs": [
    {
     "data": {
      "text/html": [
       "<div>\n",
       "<style scoped>\n",
       "    .dataframe tbody tr th:only-of-type {\n",
       "        vertical-align: middle;\n",
       "    }\n",
       "\n",
       "    .dataframe tbody tr th {\n",
       "        vertical-align: top;\n",
       "    }\n",
       "\n",
       "    .dataframe thead th {\n",
       "        text-align: right;\n",
       "    }\n",
       "</style>\n",
       "<table border=\"1\" class=\"dataframe\">\n",
       "  <thead>\n",
       "    <tr style=\"text-align: right;\">\n",
       "      <th></th>\n",
       "      <th>Idade</th>\n",
       "      <th>Salario</th>\n",
       "    </tr>\n",
       "  </thead>\n",
       "  <tbody>\n",
       "    <tr>\n",
       "      <th>count</th>\n",
       "      <td>5.000000</td>\n",
       "      <td>5.000000</td>\n",
       "    </tr>\n",
       "    <tr>\n",
       "      <th>mean</th>\n",
       "      <td>37.200000</td>\n",
       "      <td>9400.000000</td>\n",
       "    </tr>\n",
       "    <tr>\n",
       "      <th>std</th>\n",
       "      <td>23.636836</td>\n",
       "      <td>3595.135602</td>\n",
       "    </tr>\n",
       "    <tr>\n",
       "      <th>min</th>\n",
       "      <td>17.000000</td>\n",
       "      <td>6200.000000</td>\n",
       "    </tr>\n",
       "    <tr>\n",
       "      <th>25%</th>\n",
       "      <td>28.000000</td>\n",
       "      <td>7500.000000</td>\n",
       "    </tr>\n",
       "    <tr>\n",
       "      <th>50%</th>\n",
       "      <td>29.000000</td>\n",
       "      <td>8100.000000</td>\n",
       "    </tr>\n",
       "    <tr>\n",
       "      <th>75%</th>\n",
       "      <td>34.000000</td>\n",
       "      <td>9800.000000</td>\n",
       "    </tr>\n",
       "    <tr>\n",
       "      <th>max</th>\n",
       "      <td>78.000000</td>\n",
       "      <td>15400.000000</td>\n",
       "    </tr>\n",
       "  </tbody>\n",
       "</table>\n",
       "</div>"
      ],
      "text/plain": [
       "           Idade       Salario\n",
       "count   5.000000      5.000000\n",
       "mean   37.200000   9400.000000\n",
       "std    23.636836   3595.135602\n",
       "min    17.000000   6200.000000\n",
       "25%    28.000000   7500.000000\n",
       "50%    29.000000   8100.000000\n",
       "75%    34.000000   9800.000000\n",
       "max    78.000000  15400.000000"
      ]
     },
     "execution_count": 136,
     "metadata": {},
     "output_type": "execute_result"
    }
   ],
   "source": [
    "df_dsa.describe(include=[np.number])"
   ]
  },
  {
   "cell_type": "markdown",
   "id": "f0a88781",
   "metadata": {},
   "source": [
    "6 Operaçoes e trnsformaçoes"
   ]
  },
  {
   "cell_type": "markdown",
   "id": "f92b75e8",
   "metadata": {},
   "source": [
    "voce pode facilmente criar novascilunas a partir de outras ou aplicar funçoes para modificar os dados. Fazemos isso com frequencia em tarefas de engenharia de atributos em projetos de ciencias de dados"
   ]
  },
  {
   "cell_type": "code",
   "execution_count": 137,
   "id": "af7d03ac",
   "metadata": {},
   "outputs": [
    {
     "data": {
      "text/html": [
       "<div>\n",
       "<style scoped>\n",
       "    .dataframe tbody tr th:only-of-type {\n",
       "        vertical-align: middle;\n",
       "    }\n",
       "\n",
       "    .dataframe tbody tr th {\n",
       "        vertical-align: top;\n",
       "    }\n",
       "\n",
       "    .dataframe thead th {\n",
       "        text-align: right;\n",
       "    }\n",
       "</style>\n",
       "<table border=\"1\" class=\"dataframe\">\n",
       "  <thead>\n",
       "    <tr style=\"text-align: right;\">\n",
       "      <th></th>\n",
       "      <th>Nome</th>\n",
       "      <th>Idade</th>\n",
       "      <th>Cidade</th>\n",
       "      <th>Salario</th>\n",
       "    </tr>\n",
       "  </thead>\n",
       "  <tbody>\n",
       "    <tr>\n",
       "      <th>0</th>\n",
       "      <td>Ana</td>\n",
       "      <td>28.0</td>\n",
       "      <td>Blumenau</td>\n",
       "      <td>NaN</td>\n",
       "    </tr>\n",
       "    <tr>\n",
       "      <th>1</th>\n",
       "      <td>Bruna</td>\n",
       "      <td>34.0</td>\n",
       "      <td>Sao Paulo</td>\n",
       "      <td>7500.0</td>\n",
       "    </tr>\n",
       "    <tr>\n",
       "      <th>2</th>\n",
       "      <td>Fabiana</td>\n",
       "      <td>29.0</td>\n",
       "      <td>Blumenau</td>\n",
       "      <td>6200.0</td>\n",
       "    </tr>\n",
       "    <tr>\n",
       "      <th>3</th>\n",
       "      <td>Arnaldo</td>\n",
       "      <td>17.0</td>\n",
       "      <td>Sao Paulo</td>\n",
       "      <td>9800.0</td>\n",
       "    </tr>\n",
       "    <tr>\n",
       "      <th>4</th>\n",
       "      <td>Eliana</td>\n",
       "      <td>NaN</td>\n",
       "      <td>Salvador</td>\n",
       "      <td>8100.0</td>\n",
       "    </tr>\n",
       "  </tbody>\n",
       "</table>\n",
       "</div>"
      ],
      "text/plain": [
       "      Nome  Idade     Cidade  Salario\n",
       "0      Ana   28.0   Blumenau      NaN\n",
       "1    Bruna   34.0  Sao Paulo   7500.0\n",
       "2  Fabiana   29.0   Blumenau   6200.0\n",
       "3  Arnaldo   17.0  Sao Paulo   9800.0\n",
       "4   Eliana    NaN   Salvador   8100.0"
      ]
     },
     "execution_count": 137,
     "metadata": {},
     "output_type": "execute_result"
    }
   ],
   "source": [
    "df_dsa.head()"
   ]
  },
  {
   "cell_type": "code",
   "execution_count": 138,
   "id": "5be697b7",
   "metadata": {},
   "outputs": [
    {
     "name": "stdout",
     "output_type": "stream",
     "text": [
      "\n",
      "_____________________DataFrame com nova coluna \"Salario Anual\"________________________\n",
      "      Nome  Idade     Cidade  Salario  Salário Anual\n",
      "0      Ana   28.0   Blumenau      NaN            NaN\n",
      "1    Bruna   34.0  Sao Paulo   7500.0        90000.0\n",
      "2  Fabiana   29.0   Blumenau   6200.0        74400.0\n",
      "3  Arnaldo   17.0  Sao Paulo   9800.0       117600.0\n",
      "4   Eliana    NaN   Salvador   8100.0        97200.0\n",
      "5   Matias   78.0  Sao Paulo  15400.0       184800.0\n",
      "\n",
      "\n"
     ]
    }
   ],
   "source": [
    "# criar uma nova coluna de salario anual\n",
    "df_dsa['Salário Anual']= df_dsa['Salario']* 12\n",
    "print('\\n_____________________DataFrame com nova coluna \"Salario Anual\"________________________')\n",
    "print(df_dsa)\n",
    "print('\\n')"
   ]
  },
  {
   "cell_type": "code",
   "execution_count": 139,
   "id": "abf16f41",
   "metadata": {},
   "outputs": [
    {
     "ename": "SyntaxError",
     "evalue": "invalid syntax. Perhaps you forgot a comma? (4190803482.py, line 1)",
     "output_type": "error",
     "traceback": [
      "  \u001b[36mCell\u001b[39m\u001b[36m \u001b[39m\u001b[32mIn[139]\u001b[39m\u001b[32m, line 1\u001b[39m\n\u001b[31m    \u001b[39m\u001b[31mdf_dsa['Bonus']=df_dsa['Salario'].apply(lamba x: x * 0.10 if x > 7000 else x 0.05)\u001b[39m\n                                            ^\n\u001b[31mSyntaxError\u001b[39m\u001b[31m:\u001b[39m invalid syntax. Perhaps you forgot a comma?\n"
     ]
    }
   ],
   "source": [
    "df_dsa['Bonus']=df_dsa['Salario'].apply(lamba x: x * 0.10 if x > 7000 else x 0.05)\n",
    "print('\\n_____________________DataFrame com nova colua \"Bonus\"___________________\\n')\n",
    "print(df_dsa)\n",
    "print('\\n')"
   ]
  },
  {
   "cell_type": "code",
   "execution_count": null,
   "id": "80f86168",
   "metadata": {},
   "outputs": [],
   "source": [
    "condicoes = [\n",
    "    df_dsa['Idade']<18,\n",
    "    (df_dsa['Idade']>=18)&(df_dsa['Idade']<=30),\n",
    "    (df_dsa['Idade']>30)&(df_dsa['Idade']<=60),\n",
    "    df_dsa['Idade']>60\n",
    "\n",
    "\n",
    "\n",
    "]"
   ]
  },
  {
   "cell_type": "code",
   "execution_count": null,
   "id": "bdf94388",
   "metadata": {},
   "outputs": [],
   "source": [
    "print(condicoes)"
   ]
  },
  {
   "cell_type": "code",
   "execution_count": null,
   "id": "a9515931",
   "metadata": {},
   "outputs": [],
   "source": [
    "faixas = ['Menor de idade','Jovem', 'Adulto', 'Idoso']"
   ]
  },
  {
   "cell_type": "code",
   "execution_count": null,
   "id": "1e8edddc",
   "metadata": {},
   "outputs": [],
   "source": [
    "df_dsa['Faixa Etátia']= np.select(condicoes, faixas, default='Idade Não Informada')"
   ]
  },
  {
   "cell_type": "code",
   "execution_count": null,
   "id": "30e85d2a",
   "metadata": {},
   "outputs": [],
   "source": [
    "df_dsa.head()"
   ]
  },
  {
   "cell_type": "markdown",
   "id": "5bc40222",
   "metadata": {},
   "source": [
    "7 Agrupamento de Dados (Group By) com Pandas"
   ]
  },
  {
   "cell_type": "markdown",
   "id": "60b16983",
   "metadata": {},
   "source": [
    "o metodo groupby é extremamente poderoso para analise segmentadas. é exatamente o mesmo conceito usado na lingaugem SQL."
   ]
  },
  {
   "cell_type": "code",
   "execution_count": null,
   "id": "cc085e9f",
   "metadata": {},
   "outputs": [],
   "source": [
    "df_dsa.head()"
   ]
  },
  {
   "cell_type": "code",
   "execution_count": null,
   "id": "65c9c684",
   "metadata": {},
   "outputs": [],
   "source": [
    "#agrupar dados\n",
    "media_salario_cidade = df_dsa.groupby('Cidade')['Salario'].mean()\n",
    "print('\\n___________________________Media de Salario por Cidade____________________________\\n')\n",
    "print(np.round(media_salario_cidade),2)\n",
    "print('\\n')\n"
   ]
  },
  {
   "cell_type": "code",
   "execution_count": 140,
   "id": "c4e63aac",
   "metadata": {},
   "outputs": [
    {
     "name": "stdout",
     "output_type": "stream",
     "text": [
      "           Medias_Salarial  Idade_Maxima  contagem\n",
      "Cidade                                            \n",
      "Blumenau            6200.0          29.0         2\n",
      "Salvador            8100.0           NaN         1\n",
      "Sao Paulo          10900.0          78.0         3\n"
     ]
    }
   ],
   "source": [
    "#Agrupar cidade e calcular multiplas agregaçoes\n",
    "agregacao_cidade = df_dsa.groupby('Cidade').agg(Medias_Salarial=('Salario','mean'),\n",
    "                                            Idade_Maxima = ('Idade', 'max'),\n",
    "                                            contagem = ('Nome', 'count'))\n",
    "print(agregacao_cidade)"
   ]
  },
  {
   "cell_type": "markdown",
   "id": "7ce10243",
   "metadata": {},
   "source": [
    "8 Maipulaçao de tipos de dados com pandas"
   ]
  },
  {
   "cell_type": "markdown",
   "id": "94711982",
   "metadata": {},
   "source": [
    "Garantir que cada coluna tenha o tipo de dado correto é fundamental para qualquer tipo de analise"
   ]
  }
 ],
 "metadata": {
  "kernelspec": {
   "display_name": ".venv",
   "language": "python",
   "name": "python3"
  },
  "language_info": {
   "codemirror_mode": {
    "name": "ipython",
    "version": 3
   },
   "file_extension": ".py",
   "mimetype": "text/x-python",
   "name": "python",
   "nbconvert_exporter": "python",
   "pygments_lexer": "ipython3",
   "version": "3.13.2"
  }
 },
 "nbformat": 4,
 "nbformat_minor": 5
}
