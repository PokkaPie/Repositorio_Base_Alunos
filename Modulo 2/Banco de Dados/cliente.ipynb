{
 "cells": [
  {
   "cell_type": "code",
   "execution_count": 11,
   "id": "363f476e",
   "metadata": {},
   "outputs": [],
   "source": [
    "import sqlite3"
   ]
  },
  {
   "cell_type": "code",
   "execution_count": 12,
   "id": "8c8f808b",
   "metadata": {},
   "outputs": [],
   "source": [
    "cliente = 'clientes.db'"
   ]
  },
  {
   "cell_type": "markdown",
   "id": "184c9a21",
   "metadata": {},
   "source": [
    "# Criar tabelas"
   ]
  },
  {
   "cell_type": "code",
   "execution_count": 13,
   "id": "0ae00009",
   "metadata": {},
   "outputs": [
    {
     "name": "stdout",
     "output_type": "stream",
     "text": [
      "Tabela criada com sucesso!\n"
     ]
    }
   ],
   "source": [
    "script_clientes = '''CREATE TABLE IF NOT EXISTS Clientes(\n",
    "                id INTEGER PRIMARY KEY AUTOINCREMENT,\n",
    "                nome TEXT NOT NULL, \n",
    "                idade INTERGER NOT NULL,\n",
    "                email TEXT NOT NULL\n",
    ");'''\n",
    "\n",
    "try:\n",
    "    with sqlite3.connect(cliente) as con:\n",
    "        # criar um cursor\n",
    "        cur = con.cursor()\n",
    "\n",
    "        # Executar o script\n",
    "        cur.execute(script_clientes)\n",
    "\n",
    "        # Salvar as alterações no banco de dados\n",
    "        con.commit()\n",
    "        print(\"Tabela criada com sucesso!\")\n",
    "except sqlite3.OperationalError as e:\n",
    "    print('Erro:', e)"
   ]
  },
  {
   "cell_type": "markdown",
   "id": "504d7be4",
   "metadata": {},
   "source": [
    "# Consultar tabelas"
   ]
  },
  {
   "cell_type": "code",
   "execution_count": 14,
   "id": "62726a56",
   "metadata": {},
   "outputs": [
    {
     "name": "stdout",
     "output_type": "stream",
     "text": [
      "[(1, 'Alexsandra', 28, 'alexsandra@gmail.com')]\n"
     ]
    }
   ],
   "source": [
    "sql = 'SELECT * FROM Clientes'\n",
    "\n",
    "try:\n",
    "    with sqlite3.connect(cliente) as con:\n",
    "        # Criar cursor\n",
    "        cur = con.cursor()\n",
    "\n",
    "        # Executar o script\n",
    "        cur.execute(sql)\n",
    "        res = cur.fetchall() # retorna uma lista de listas\n",
    "        print(res)\n",
    "except sqlite3.OperationalError as e:\n",
    "    print('Erro', e)"
   ]
  },
  {
   "cell_type": "markdown",
   "id": "a9ba12c7",
   "metadata": {},
   "source": [
    "# Inserir dados"
   ]
  },
  {
   "cell_type": "code",
   "execution_count": null,
   "id": "2890a796",
   "metadata": {},
   "outputs": [],
   "source": [
    "sql = 'INSERT INTO Clientes (nome, idade, email) VALUES (?,?,?)'\n",
    "try:\n",
    "    with sqlite3.connect(cliente) as con:\n",
    "        #Criar o cursor\n",
    "        cur = con.cursor()\n",
    "        # Executar o script\n",
    "        cur.execute(sql, ('Alexsandra', 20, 'alexsandra@gmail.com'))\n",
    "        # Salvar as alterações no banco de dados\n",
    "        con.commit()\n",
    "except sqlite3.OperationalError as e:\n",
    "    print('Erro:', e)"
   ]
  },
  {
   "cell_type": "markdown",
   "id": "a4a8a28d",
   "metadata": {},
   "source": [
    "# Atualizar um registro"
   ]
  },
  {
   "cell_type": "code",
   "execution_count": 9,
   "id": "15cd5385",
   "metadata": {},
   "outputs": [],
   "source": [
    "sql = 'UPDATE Clientes SET idade = ? WHERE id = ?'\n",
    "\n",
    "try:\n",
    "    with sqlite3.connect(cliente) as con:\n",
    "        # Criar cursor\n",
    "        cur= con.cursor()\n",
    "        # Executar o script\n",
    "        cur.execute(sql,(28, 1))\n",
    "        # Salvar as alterações no banco de dados\n",
    "        con.commit()\n",
    "except sqlite3.OperationalError as e:\n",
    "    print('Erro', e)"
   ]
  },
  {
   "cell_type": "markdown",
   "id": "63970ccf",
   "metadata": {},
   "source": [
    "# Deletar Registro"
   ]
  },
  {
   "cell_type": "code",
   "execution_count": 10,
   "id": "85acc51d",
   "metadata": {},
   "outputs": [],
   "source": [
    "sql = 'DELETE FROM Clientes WHERE id = ?'\n",
    "try:\n",
    "    with sqlite3.connect(cliente) as con:\n",
    "        cur= con.cursor()\n",
    "        cur.execute(sql,(2,))\n",
    "        con.commit()\n",
    "except sqlite3.OperationalError as e:\n",
    "    print('Erro', e)"
   ]
  }
 ],
 "metadata": {
  "kernelspec": {
   "display_name": ".venv",
   "language": "python",
   "name": "python3"
  },
  "language_info": {
   "codemirror_mode": {
    "name": "ipython",
    "version": 3
   },
   "file_extension": ".py",
   "mimetype": "text/x-python",
   "name": "python",
   "nbconvert_exporter": "python",
   "pygments_lexer": "ipython3",
   "version": "3.13.2"
  }
 },
 "nbformat": 4,
 "nbformat_minor": 5
}
